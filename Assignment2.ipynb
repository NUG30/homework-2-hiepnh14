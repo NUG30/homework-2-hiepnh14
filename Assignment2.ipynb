{
  "nbformat": 4,
  "nbformat_minor": 0,
  "metadata": {
    "colab": {
      "name": "Copy of Copy of Assignment2.ipynb",
      "provenance": [],
      "collapsed_sections": [],
      "include_colab_link": true
    },
    "kernelspec": {
      "name": "python3",
      "display_name": "Python 3"
    }
  },
  "cells": [
    {
      "cell_type": "markdown",
      "metadata": {
        "id": "view-in-github",
        "colab_type": "text"
      },
      "source": [
        "<a href=\"https://colab.research.google.com/github/NUG30/homework-2-hiepnh14/blob/main/Assignment2.ipynb\" target=\"_parent\"><img src=\"https://colab.research.google.com/assets/colab-badge.svg\" alt=\"Open In Colab\"/></a>"
      ]
    },
    {
      "cell_type": "markdown",
      "metadata": {
        "id": "hwTPfD-_mGwe"
      },
      "source": [
        "# Homework 2: Naive Bayes Email Spam Filter\n",
        "\n",
        "In this homework, we will learn how to implement the Naive Bayes classifier in order to create a simple email spam filter. This spam filter will be trained by test_emails, which will be given by a vector of tuples (emails, spam/nospam). For each tuple the first entry is a string (\"email\"), and the second entry is 0 or 1, depending whether the email contains spam words."
      ]
    },
    {
      "cell_type": "code",
      "metadata": {
        "id": "LcYY9uEZ8NNA"
      },
      "source": [
        "dictionary = ['hello', 'students', 'please', 'learn', 'for', 'the', 'exam', 'buy', 'drugs', 'today', 'sun', 'is', 'shining', 'in', 'nagoya', 'lets', 'sell', 'how', 'are', 'you', 'today?', 'do', 'your', 'homework', 'want', 'free', 'solutions?', 'hey', 'always', 'ask', 'questions', 'if','have', 'any', 'math', 'not', 'good', 'submit', 'pay'] \n",
        "\n",
        "test_emails=[\n",
        "             [\"hello students, please learn for the exam\", 0],\n",
        "             [\"hello students, please buy drugs\", 1],    \n",
        "             [\"hello, today the sun is shining in nagoya\", 0],\n",
        "             [\"lets sell drugs in nagoya\", 1],\n",
        "             [\"today learn drugs\", 1],\n",
        "             [\"how are you today?\", 0],\n",
        "             [\"hello students, please do your homework\", 0],\n",
        "             [\"hello, do you want free homework solutions?\", 1],\n",
        "             [\"hey students, please always ask questions if you have any\", 0],\n",
        "             [\"math is not good\", 1],\n",
        "             [\"math is good\", 0],\n",
        "             [\"please submit your homework\", 0],\n",
        "             [\"please buy questions\", 1],\n",
        "             [\"please pay for the exam\", 1]          \n",
        "             ]"
      ],
      "execution_count": null,
      "outputs": []
    },
    {
      "cell_type": "markdown",
      "metadata": {
        "id": "-7_jFoKsHlXZ"
      },
      "source": [
        "The feature space for our spam filter will be $\\mathcal{X}=\\{0,1\\}^d$, where $d$ denotes the number of words in the dictionary. For a feature (email) $x \\in \\mathcal{X}$ the entry $x_i$ for $i=1,\\dots,d$ is $1$ if the $i$-th word of the dictionary is contained in the email and $0$ otherwise.  "
      ]
    },
    {
      "cell_type": "markdown",
      "metadata": {
        "id": "ihFEvEcCHI6y"
      },
      "source": [
        "# **Exercise 1**\n",
        "Implement a function which creates a feature vector out of an email and a function which creates a training set out of test emails. \n",
        "\n",
        "You would need to figure out whether a sentence contains a word, and there are functions in Python that could determine whether a string contains another string. You can consult documentation (and Google) to find out."
      ]
    },
    {
      "cell_type": "code",
      "metadata": {
        "id": "YcrE1LTy8mjy",
        "colab": {
          "base_uri": "https://localhost:8080/"
        },
        "outputId": "0a2c4e85-f611-4332-89e9-edc4bdc3e553"
      },
      "source": [
        "import numpy as np\n",
        "def email_to_feature(dict, email):\n",
        "  feature = np.empty(len(dict), dtype = int)\n",
        "  for i in range(len(dict)):\n",
        "    if dict[i] in email:\n",
        "      feature[i] = 1\n",
        "    else: \n",
        "      feature[i] = 0\n",
        "  return feature\n",
        "\n",
        "def emails_to_test_samples(dict, test_emails):\n",
        "  T = test_emails\n",
        "  for i in range(len(test_emails)):\n",
        "    T[i][0] = email_to_feature(dict, test_emails[i][0])\n",
        "    \n",
        "  return T\n",
        "\n",
        "print(emails_to_test_samples(dictionary, test_emails)[3][0])\n"
      ],
      "execution_count": null,
      "outputs": [
        {
          "output_type": "stream",
          "text": [
            "[0 0 0 0 0 0 0 0 1 0 0 0 0 1 1 1 1 0 0 0 0 0 0 0 0 0 0 0 0 0 0 0 0 0 0 0 0\n",
            " 0 0]\n"
          ],
          "name": "stdout"
        }
      ]
    },
    {
      "cell_type": "code",
      "metadata": {
        "colab": {
          "base_uri": "https://localhost:8080/"
        },
        "id": "H3Iq_F_Y-M8D",
        "outputId": "ed01c987-dce6-4f6a-fce7-96781c53f813"
      },
      "source": [
        "email_to_feature(dictionary, test_emails[0][0])\r\n",
        "emails_to_test_samples(dictionary, test_emails)[0]"
      ],
      "execution_count": null,
      "outputs": [
        {
          "output_type": "stream",
          "text": [
            "/usr/local/lib/python3.6/dist-packages/ipykernel_launcher.py:5: FutureWarning: elementwise comparison failed; returning scalar instead, but in the future will perform elementwise comparison\n",
            "  \"\"\"\n"
          ],
          "name": "stderr"
        },
        {
          "output_type": "execute_result",
          "data": {
            "text/plain": [
              "[array([0, 0, 0, 0, 0, 0, 0, 0, 0, 0, 0, 0, 0, 0, 0, 0, 0, 0, 0, 0, 0, 0,\n",
              "        0, 0, 0, 0, 0, 0, 0, 0, 0, 0, 0, 0, 0, 0, 0, 0, 0]), 0]"
            ]
          },
          "metadata": {
            "tags": []
          },
          "execution_count": 93
        }
      ]
    },
    {
      "cell_type": "markdown",
      "metadata": {
        "id": "DzUtdPFZ_1vR"
      },
      "source": [
        " **Recall from Lecture 6:**\n",
        "\n",
        "Given a training set  $\\mathcal{T} = \\left( (x^{(1)}, y^{(1)}) , \\dots, (x^{(n)}, y^{(n)})   \\right)$ we calculate for $i=1,\\dots,d$ the following numbers\n",
        "\\begin{align*}\n",
        "\\phi_{i\\mid y=1} &= \\frac{1+\\sum_{j=1}^n I(x^{(j)}_i = 1  \\,\\wedge \\, y^{(j)}=1 ) }{2+\\sum_{j=1}^n I(y^{(j)}=1)}\\,,\\\\\n",
        "\t\\phi_{i\\mid y=0} &= \\frac{1+\\sum_{j=1}^n I(x^{(j)}_i = 1  \\,\\wedge \\, y^{(j)}=0 )}{2+\\sum_{j=1}^n I(y^{(j)}=0)}\\,,\\\\\n",
        "\t\t\\phi_{y=1} &= \\frac{1+\\sum_{j=1}^n I(y^{(j)} = 1)}{2+n} \\,.\n",
        "\\end{align*}\n",
        "Here $I$ denoted the indicator function. We used the laplace smoothing (thats why we have the $1+$ and $2+$) in order to make sure that we will not assume probability $0$ for unknown words.\n",
        "\n",
        "Now assume we get a new feature (i.e. someone sends us an email) $x \\in \\{0,1\\}^d$. Then we can calculate for each word $i=1,\\dots,d$ the probabilities\n",
        "\\begin{align*}\n",
        "P(x_i = 1 \\mid y=1) &= \\phi_{i\\mid y=1}\\,,\\qquad &&P(x_i = 1 \\mid y=0) = \\phi_{i\\mid y=0} \\,,\\\\\n",
        "P(x_i = 0 \\mid y=1) &= 1- \\phi_{i\\mid y=1}\\,,\\qquad &&P(x_i = 0 \\mid y=0) = 1-\\phi_{i\\mid y=0} \\,. \\\\\n",
        "\\end{align*}\n",
        "\n",
        "By the Naive Bayes assumption we have for $x \\in \\{0,1\\}^d$\n",
        "\\begin{align*}\n",
        "P(x \\mid y)  = \\prod_{i=1}^d P(x_j \\mid y)\\,.\n",
        "\\end{align*}\n",
        "The probability of the new email being spam is then\n",
        "\\begin{align*}\n",
        "P(y=1 \\mid x) &= \\frac{ P(x \\mid y=1) P(y=1)}{P(x)}\\\\\n",
        "&= \\frac{\\prod_{i=1}^d P(x_i \\mid y = 1) \\cdot \\phi_{y=1}}{\\prod_{i=1}^d P(x_i \\mid y = 1) \\cdot \\phi_{y=1} + \\prod_{i=1}^d P(x_i \\mid y = 0) (1-\\phi_{y=1})}\\,.\n",
        "\\end{align*}\n"
      ]
    },
    {
      "cell_type": "markdown",
      "metadata": {
        "id": "3KdBdWJQINbe"
      },
      "source": [
        "# **Exercise 2:** \n",
        "Use the above explanation of the Naive Bayes Spam filter and implement a function which gives the probability of an email being spam given the trainings email above. \n"
      ]
    },
    {
      "cell_type": "code",
      "metadata": {
        "id": "8Ry9w9OtOFBi",
        "colab": {
          "base_uri": "https://localhost:8080/"
        },
        "outputId": "0ea33ee5-c4c2-4ef2-f101-541a8b81231a"
      },
      "source": [
        "# You can implement the above algorithm in any way you want.\n",
        "# One possible way:\n",
        "# - Calculate the phis here\n",
        "# - Write functions for the probability P(x|y) depending on these phis\n",
        "# - Use this function in the function spam_percentage \n",
        "dictionary = ['hello', 'students', 'please', 'learn', 'for', 'the', 'exam', 'buy', 'drugs', 'today', 'sun', 'is', 'shining', 'in', 'nagoya', 'lets', 'sell', 'how', 'are', 'you', 'today?', 'do', 'your', 'homework', 'want', 'free', 'solutions?', 'hey', 'always', 'ask', 'questions', 'if','have', 'any', 'math', 'not', 'good', 'submit', 'pay'] \n",
        "\n",
        "test_emails=[\n",
        "             [\"hello students, please learn for the exam\", 0],\n",
        "             [\"hello students, please buy drugs\", 1],    \n",
        "             [\"hello, today the sun is shining in nagoya\", 0],\n",
        "             [\"lets sell drugs in nagoya\", 1],\n",
        "             [\"today learn drugs\", 1],\n",
        "             [\"how are you today?\", 0],\n",
        "             [\"hello students, please do your homework\", 0],\n",
        "             [\"hello, do you want free homework solutions?\", 1],\n",
        "             [\"hey students, please always ask questions if you have any\", 0],\n",
        "             [\"math is not good\", 1],\n",
        "             [\"math is good\", 0],\n",
        "             [\"please submit your homework\", 0],\n",
        "             [\"please buy questions\", 1],\n",
        "             [\"please pay for the exam\", 1]          \n",
        "             ]\n",
        "import numpy as np\n",
        "def email_to_feature(dict, email):\n",
        "  feature = np.empty(len(dict), dtype = int)\n",
        "  for i in range(len(dict)):\n",
        "    if dict[i] in email:\n",
        "      feature[i] = 1\n",
        "    else: \n",
        "      feature[i] = 0\n",
        "  return feature\n",
        "\n",
        "def emails_to_test_samples(dict, test_emails):\n",
        "  T = test_emails\n",
        "  for i in range(len(test_emails)):\n",
        "    T[i][0] = email_to_feature(dict, test_emails[i][0])\n",
        "    \n",
        "  return T\n",
        "def Phiy1(T, i):\n",
        "    no = 1\n",
        "    de = 2\n",
        "    for j in range(len(T)):\n",
        "      if T[j][0][i] == 1 and T[j][1] == 1:\n",
        "        no += 1\n",
        "      if T[j][1] == 1: \n",
        "        de += 1\n",
        "    return no/de\n",
        "def Phiy0(T, i):\n",
        "  no = 1\n",
        "  de = 2\n",
        "  for j in range(len(T)):\n",
        "    if T[j][0][i] == 1 and T[j][1] == 0:\n",
        "      no += 1\n",
        "    if T[j][1] == 0:\n",
        "      de += 1\n",
        "  return no/de\n",
        "def Phi1(T):\n",
        "  no = 1\n",
        "  de = 2 + len(T)\n",
        "  for j in range(len(T)):\n",
        "    if T[j][1] == 1:\n",
        "      no += 1\n",
        "  return no/de\n",
        "def Phisy1(feature, dict):\n",
        "  P = 1\n",
        "  for i in range(len(dict)):\n",
        "    if feature[i] == 1:\n",
        "      P = P*Phiy1(T, i)\n",
        "  return P\n",
        "def Phisy0(feature, dict):\n",
        "  P = 1\n",
        "  for i in range(len(dict)):\n",
        "    if feature[i] == 1:\n",
        "      P = P*Phiy0(T, i)\n",
        "  return P\n",
        "\n",
        "\n",
        "T = emails_to_test_samples(dictionary, test_emails)\n",
        "print(Phi1(T))\n",
        "print(Phiy0(T, 5)) \n",
        "print(Phiy1(T, 5))\n",
        "def spam_percentage(email):\n",
        "  feature = email_to_feature(dictionary, email)\n",
        "  no = Phisy1(feature, dictionary)*Phi1(T)\n",
        "  de = no + Phisy0(feature, dictionary)*(1-Phi1(T))\n",
        "  return no/de\n",
        "\n",
        "\n",
        "  "
      ],
      "execution_count": 14,
      "outputs": [
        {
          "output_type": "stream",
          "text": [
            "0.5\n",
            "0.3333333333333333\n",
            "0.2222222222222222\n"
          ],
          "name": "stdout"
        }
      ]
    },
    {
      "cell_type": "markdown",
      "metadata": {
        "id": "d2ABCIxrT11Z"
      },
      "source": [
        "Test your spam filter with the following email.\n"
      ]
    },
    {
      "cell_type": "code",
      "metadata": {
        "id": "Zo_egC7AUYoq",
        "colab": {
          "base_uri": "https://localhost:8080/"
        },
        "outputId": "d453e3d7-4be2-4f91-fb44-0e663cdf24e9"
      },
      "source": [
        "email = \"\"\n",
        "#email=\"the sun is shining. buy drugs now\"\n",
        "#email = \"drugs buy free pay not\"\n",
        "#email = \"learn how submit shining are\"\n",
        "print(spam_percentage(email))"
      ],
      "execution_count": null,
      "outputs": [
        {
          "output_type": "stream",
          "text": [
            "0.5\n"
          ],
          "name": "stdout"
        }
      ]
    },
    {
      "cell_type": "markdown",
      "metadata": {
        "id": "82y_1mNLP6Lu"
      },
      "source": [
        "\n",
        "# **Exercise 3**\n",
        "Extend your spamfilter by creating a dynamical dictionary. Instead of starting with a fixed dictionary, you should now create a dictionary out of a list of emails. \n",
        "\n",
        "Write a function `create_dictionary(emails)` which returns a dictionary created from a list of emails (Give as an array of arrays `[text, spam\\nospam]`). Make sure that you do not include words more than once into the dictionary.\n",
        "To implement this function you should look up the function `split()` for a string in Python. To take care of the symbols \".\" and \",\" you can use the `replace()` function of a string."
      ]
    },
    {
      "cell_type": "code",
      "metadata": {
        "id": "1rvAqAkHz21D",
        "colab": {
          "base_uri": "https://localhost:8080/"
        },
        "outputId": "d1accc15-de12-44be-8a37-da5175649c68"
      },
      "source": [
        "\n",
        "def create_dictionary(emails):\n",
        "  dict = dictionary\n",
        "  emails[0] = emails[0].replace(\",\", \"\")\n",
        "  emails[0] = emails[0].replace(\".\", \"\")\n",
        "  emails[0] = emails[0].lower()\n",
        "  texts = emails[0].split(\" \")\n",
        "  add = []\n",
        "  for i in range(len(texts)):\n",
        "    flag = 0\n",
        "    for j in range(len(dictionary)):\n",
        "      if texts[i] == dictionary[j]:\n",
        "        flag = 1\n",
        "    if flag == 0:\n",
        "      add.append(texts[i])\n",
        "  for i in range(len(add)):\n",
        "    dict.append(add[i])\n",
        "  return dict"
      ],
      "execution_count": 13,
      "outputs": [
        {
          "output_type": "stream",
          "text": [
            "['hello', 'students', 'please', 'learn', 'for', 'the', 'exam', 'buy', 'drugs', 'today', 'sun', 'is', 'shining', 'in', 'nagoya', 'lets', 'sell', 'how', 'are', 'you', 'today?', 'do', 'your', 'homework', 'want', 'free', 'solutions?', 'hey', 'always', 'ask', 'questions', 'if', 'have', 'any', 'math', 'not', 'good', 'submit', 'pay', 'every', 'body', 'this', 'a', 'test', '', 'haha']\n"
          ],
          "name": "stdout"
        }
      ]
    }
  ]
}